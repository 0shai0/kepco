{
 "cells": [
  {
   "cell_type": "code",
   "execution_count": 1,
   "id": "b24d802b-6272-4e31-bd99-f26456d4e355",
   "metadata": {
    "tags": []
   },
   "outputs": [],
   "source": [
    "## 객체지향 프로그램 특징\n",
    "## encapsulation (캡슐화)\n",
    "## abstract (춧항화)\n",
    "## morphise (다형성)\n",
    "## inheritence (상속)\n",
    "## python 객체지향 언어 \n",
    "\n",
    "## 클래스"
   ]
  },
  {
   "cell_type": "code",
   "execution_count": 3,
   "id": "40308526-ef69-4929-bcd6-f8588284cec6",
   "metadata": {
    "tags": []
   },
   "outputs": [
    {
     "name": "stdout",
     "output_type": "stream",
     "text": [
      "<class 'int'>\n"
     ]
    }
   ],
   "source": [
    "print(type(1))"
   ]
  },
  {
   "cell_type": "code",
   "execution_count": 73,
   "id": "a25efb37-4d25-4397-9a67-3d5537894088",
   "metadata": {
    "tags": []
   },
   "outputs": [],
   "source": [
    "## 계산 클래스를 만들자\n",
    "class Calc:\n",
    "    ##생성자\n",
    "    def __init__(self,x,y):\n",
    "        self.x = x\n",
    "        self.y = y\n",
    "    \n",
    "    def add(self):\n",
    "        self.add_ = self.x + self.y\n",
    "    \n",
    "    def sub(self):\n",
    "        self.sub_ = self.x - self.y\n",
    "    \n",
    "    def multi(self):\n",
    "        self.multi_ = self.x * self.y\n",
    "    \n",
    "    def div(self):\n",
    "        self.div_ = self.x / self.y\n",
    "    \n",
    "    def statistic(self):\n",
    "        self.add()\n",
    "        self.sub()\n",
    "        self.multi()\n",
    "        self.div()\n",
    "    \n",
    "    def report(self):\n",
    "        self.statistic()\n",
    "        print(f'더하기 결과는 {self.add_}')\n",
    "        print(f'빼기 결과는 {self.sub_}')\n",
    "        print(f'곱하기 결과는 {self.multi_}')\n",
    "        print(f'나누기 결과는 {self.div_}')\n",
    "        "
   ]
  },
  {
   "cell_type": "code",
   "execution_count": 96,
   "id": "58ed745f-4c54-4a8c-95b3-1f796d937ed5",
   "metadata": {
    "tags": []
   },
   "outputs": [],
   "source": [
    "class List(list):\n",
    "    def __init__(self,x):\n",
    "        self.x = []\n",
    "        for i in x:\n",
    "            if type(i) != str:\n",
    "                self.x.append(i)\n",
    "    \n",
    "    def sum(self):\n",
    "        self.s = 0\n",
    "        for i in self.x:\n",
    "            self.s += i\n",
    "        return self.s\n",
    "    "
   ]
  },
  {
   "cell_type": "code",
   "execution_count": 97,
   "id": "784f98a2-6086-4ddd-97c9-7b60aabaf5f7",
   "metadata": {
    "tags": []
   },
   "outputs": [],
   "source": [
    "a = List([1,3,'5','a'])"
   ]
  },
  {
   "cell_type": "code",
   "execution_count": 98,
   "id": "2fd01fb4-ed6e-4948-ba19-32cdf6087a9c",
   "metadata": {
    "tags": []
   },
   "outputs": [],
   "source": [
    "a.insert(1,4)"
   ]
  },
  {
   "cell_type": "code",
   "execution_count": 90,
   "id": "11c5bd05-930f-43aa-868d-8c6eeef4d8f4",
   "metadata": {
    "tags": []
   },
   "outputs": [
    {
     "data": {
      "text/plain": [
       "[1, 3]"
      ]
     },
     "execution_count": 90,
     "metadata": {},
     "output_type": "execute_result"
    }
   ],
   "source": [
    "a.x"
   ]
  },
  {
   "cell_type": "code",
   "execution_count": 46,
   "id": "3f4cd7f2-7964-4318-91ce-4e2f1af206bd",
   "metadata": {
    "tags": []
   },
   "outputs": [
    {
     "data": {
      "text/plain": [
       "-1"
      ]
     },
     "execution_count": 46,
     "metadata": {},
     "output_type": "execute_result"
    }
   ],
   "source": [
    "b.result"
   ]
  },
  {
   "cell_type": "code",
   "execution_count": 48,
   "id": "76117ccc-7916-44c2-b608-df44d7309f6f",
   "metadata": {
    "tags": []
   },
   "outputs": [],
   "source": [
    "b.x = 10"
   ]
  },
  {
   "cell_type": "code",
   "execution_count": 51,
   "id": "c8b6435a-5e7d-4c1c-8d5f-459e2106c740",
   "metadata": {
    "tags": []
   },
   "outputs": [],
   "source": [
    "b.sub()"
   ]
  },
  {
   "cell_type": "code",
   "execution_count": 52,
   "id": "77906c33-f696-47ab-8f42-85ec81ace20f",
   "metadata": {
    "tags": []
   },
   "outputs": [
    {
     "data": {
      "text/plain": [
       "4"
      ]
     },
     "execution_count": 52,
     "metadata": {},
     "output_type": "execute_result"
    }
   ],
   "source": [
    "b.result"
   ]
  },
  {
   "cell_type": "code",
   "execution_count": null,
   "id": "63f5e852-a806-4f0e-9434-cb29f8b91c81",
   "metadata": {},
   "outputs": [],
   "source": []
  }
 ],
 "metadata": {
  "kernelspec": {
   "display_name": "Python 3 (ipykernel)",
   "language": "python",
   "name": "python3"
  },
  "language_info": {
   "codemirror_mode": {
    "name": "ipython",
    "version": 3
   },
   "file_extension": ".py",
   "mimetype": "text/x-python",
   "name": "python",
   "nbconvert_exporter": "python",
   "pygments_lexer": "ipython3",
   "version": "3.11.4"
  }
 },
 "nbformat": 4,
 "nbformat_minor": 5
}
