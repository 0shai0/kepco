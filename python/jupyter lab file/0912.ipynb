{
 "cells": [
  {
   "cell_type": "code",
   "execution_count": null,
   "id": "7ed55a8d-fe1e-4013-92ae-e2f19f6e55f3",
   "metadata": {},
   "outputs": [],
   "source": [
    "#\n",
    "#encapsultion(캡슐화)\n",
    "#abstract\n",
    "#morphise\n",
    "#inheritence(상속)"
   ]
  },
  {
   "cell_type": "code",
   "execution_count": 37,
   "id": "e7097d44-c452-4adf-8a3d-cf95dc90c2bb",
   "metadata": {
    "tags": []
   },
   "outputs": [
    {
     "ename": "SyntaxError",
     "evalue": "invalid syntax (726706828.py, line 18)",
     "output_type": "error",
     "traceback": [
      "\u001b[1;36m  Cell \u001b[1;32mIn[37], line 18\u001b[1;36m\u001b[0m\n\u001b[1;33m    self.add():\u001b[0m\n\u001b[1;37m              ^\u001b[0m\n\u001b[1;31mSyntaxError\u001b[0m\u001b[1;31m:\u001b[0m invalid syntax\n"
     ]
    }
   ],
   "source": [
    "#계산하는 클래스\n",
    "class Calc:\n",
    "    #생성자\n",
    "    def __init__(self,x,y):\n",
    "        self.x=x\n",
    "        self.y=y\n",
    "        self.z=x+y\n",
    "        print(f'첫 번째 클래스 만드는 것을 환영합니다')\n",
    "    def add(self):\n",
    "        self.add_= self.x+self.y\n",
    "    def sub(self):\n",
    "        self.sub_==self.x-self.y\n",
    "    def multi(self):\n",
    "        self.multi_= self.x*self.y\n",
    "    def div(self):\n",
    "        self.div_=self.x/self.y\n",
    "    def statistic(self):\n",
    "        self.add():\n",
    "        self.sub():\n",
    "        self.multi():\n",
    "        self.div():\n",
    "    def report(self):\n",
    "        print(f'더하기 결과는 {self.add_}')\n",
    "        print(f'빼기 결과는 {self.sub_}')\n",
    "        print(f'곱하기 결과는 {self.multi_}')\n",
    "        print(f'나누기기 결과는 {self.div_}')"
   ]
  },
  {
   "cell_type": "code",
   "execution_count": 24,
   "id": "be9d0103-9dfe-4396-9259-2f5b47d352e5",
   "metadata": {
    "tags": []
   },
   "outputs": [
    {
     "name": "stdout",
     "output_type": "stream",
     "text": [
      "첫 번째 클래스 만드는 것을 환영합니다\n",
      "첫 번째 클래스 만드는 것을 환영합니다\n"
     ]
    }
   ],
   "source": [
    "a=Calc(3,4)\n",
    "b=Calc(5,6)"
   ]
  },
  {
   "cell_type": "code",
   "execution_count": 31,
   "id": "5ae51c8f-41c9-451a-a147-6a80c983f641",
   "metadata": {
    "tags": []
   },
   "outputs": [],
   "source": [
    "b.x=10"
   ]
  },
  {
   "cell_type": "code",
   "execution_count": 32,
   "id": "a23562a6-6ad3-44aa-936a-880badfb5be9",
   "metadata": {
    "tags": []
   },
   "outputs": [
    {
     "data": {
      "text/plain": [
       "-1"
      ]
     },
     "execution_count": 32,
     "metadata": {},
     "output_type": "execute_result"
    }
   ],
   "source": [
    "b.result"
   ]
  },
  {
   "cell_type": "code",
   "execution_count": 47,
   "id": "4cce8f95-353c-435f-a979-237224bf9172",
   "metadata": {
    "tags": []
   },
   "outputs": [],
   "source": [
    "class List(list):\n",
    "    def __init__(self,x):\n",
    "        self.x = []\n",
    "        for i in x:\n",
    "            if type(i) != str:\n",
    "                self.x.append(i)\n",
    "    def sum(self):\n",
    "        self.s = 0\n",
    "        for i in self.x:\n",
    "            self.s += i\n",
    "        return self.s"
   ]
  },
  {
   "cell_type": "code",
   "execution_count": 48,
   "id": "77b883d4-17df-44bc-b87e-a35e3a523048",
   "metadata": {
    "tags": []
   },
   "outputs": [],
   "source": [
    "a=List([1,3,'5','a'])"
   ]
  },
  {
   "cell_type": "code",
   "execution_count": 49,
   "id": "df441d1f-d20e-4346-ab3e-96ef7d8f2acd",
   "metadata": {
    "tags": []
   },
   "outputs": [
    {
     "data": {
      "text/plain": [
       "4"
      ]
     },
     "execution_count": 49,
     "metadata": {},
     "output_type": "execute_result"
    }
   ],
   "source": [
    "a.sum()"
   ]
  }
 ],
 "metadata": {
  "kernelspec": {
   "display_name": "Python 3 (ipykernel)",
   "language": "python",
   "name": "python3"
  },
  "language_info": {
   "codemirror_mode": {
    "name": "ipython",
    "version": 3
   },
   "file_extension": ".py",
   "mimetype": "text/x-python",
   "name": "python",
   "nbconvert_exporter": "python",
   "pygments_lexer": "ipython3",
   "version": "3.11.4"
  }
 },
 "nbformat": 4,
 "nbformat_minor": 5
}
